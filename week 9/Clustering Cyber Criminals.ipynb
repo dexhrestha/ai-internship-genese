{
 "cells": [
  {
   "cell_type": "code",
   "execution_count": 3,
   "metadata": {},
   "outputs": [],
   "source": [
    "#Creating fake dataset \n",
    "from faker import Faker\n",
    "fake_data = Faker()\n",
    "\n",
    "technical_know_how = ['Sharp','Focused','Well-trained','Strategic planners','Bully','Resourceful','Goal oriented','Well-networked','Well-organized','Well trained','Creative','Skilful','Opportunists']\n",
    "\n",
    "personal_traits = ['Impatient',\n",
    "'Determined',\n",
    "'Insensitive',\n",
    "'Secretive',\n",
    "'Aggressive',\n",
    "'Strong-willed' ,\n",
    "'Passionate ',\n",
    "'Insensitive',\n",
    "'Chaotic state of mind'  ,\n",
    "'Inhuman Psyche',\n",
    "'Vengeful',\n",
    "'Coercive',\n",
    "'Coward',\n",
    "'Selfish',\n",
    "'Immoral',\n",
    "'Risk-taker',\n",
    "'Loner',\n",
    "'Incited',\n",
    "'Gullible',\n",
    "'Conviction in Violence',\n",
    "'Emotional',\n",
    "'Control freak',\n",
    "'Psychologically Deviant',\n",
    "'Psychiatric conditions',\n",
    "'Identity crisis',]\n",
    "\n",
    "social_characteristics = ['Anti-establishment',\n",
    "'Lack Social skills',\n",
    "'Low self-worth',\n",
    "'Marginalised',\n",
    "'Radical',\n",
    "'Mass-destruction',\n",
    "'Misguided',\n",
    "'Brain-washed',\n",
    "'Anti-social',\n",
    "'Anti-state',\n",
    "'Unlawful',\n",
    "'Rebellious',\n",
    "'Reinforcement available',\n",
    "'Intolerance to diversity of opinion',\n",
    "'Need to outsmart others',\n",
    "'Rationalization',\n",
    "'Social dissatisfaction',\n",
    "'Broken homes/families',\n",
    "'Socially inept',\n",
    "'Insufficient social support',]\n",
    "\n",
    "motivating_factors = ['Monetary Gain',\n",
    "'Greed',\n",
    "'Political beliefs',\n",
    "'Emotions',\n",
    "'Disregard for law',\n",
    "'Intolerance',\n",
    "'Thrill-seeking',\n",
    "'Risk tolerance',\n",
    "'Manipulate others',\n",
    "'Need to Control others',\n",
    "'Concealed existence',\n",
    "'Political support',\n",
    "'Religious fundamentalism',\n",
    "'Experimentation',\n",
    "'No fear of punishment',\n",
    "'Curiosity',\n",
    "'Revenge',\n",
    "'Anger',\n",
    "'Lust',\n",
    "'Plain boredom',\n",
    "'Enhancing self-worth',]\n"
   ]
  },
  {
   "cell_type": "code",
   "execution_count": 4,
   "metadata": {},
   "outputs": [],
   "source": [
    "import pandas as pd\n",
    "import numpy as np\n",
    "from sklearn.cluster import KMeans\n",
    "import matplotlib.pyplot as plt\n",
    "from sklearn.preprocessing import LabelEncoder\n",
    "from sklearn.decomposition import PCA\n"
   ]
  },
  {
   "cell_type": "code",
   "execution_count": 5,
   "metadata": {},
   "outputs": [
    {
     "data": {
      "text/html": [
       "<div>\n",
       "<style scoped>\n",
       "    .dataframe tbody tr th:only-of-type {\n",
       "        vertical-align: middle;\n",
       "    }\n",
       "\n",
       "    .dataframe tbody tr th {\n",
       "        vertical-align: top;\n",
       "    }\n",
       "\n",
       "    .dataframe thead th {\n",
       "        text-align: right;\n",
       "    }\n",
       "</style>\n",
       "<table border=\"1\" class=\"dataframe\">\n",
       "  <thead>\n",
       "    <tr style=\"text-align: right;\">\n",
       "      <th></th>\n",
       "      <th>Technical Know How</th>\n",
       "      <th>Personal Traits</th>\n",
       "      <th>Social Characteristics</th>\n",
       "      <th>Motivating factors</th>\n",
       "    </tr>\n",
       "  </thead>\n",
       "  <tbody>\n",
       "    <tr>\n",
       "      <th>0</th>\n",
       "      <td>Well-trained</td>\n",
       "      <td>Immoral</td>\n",
       "      <td>Mass-destruction</td>\n",
       "      <td>Anger</td>\n",
       "    </tr>\n",
       "    <tr>\n",
       "      <th>1</th>\n",
       "      <td>Skilful</td>\n",
       "      <td>Conviction in Violence</td>\n",
       "      <td>Intolerance to diversity of opinion</td>\n",
       "      <td>Curiosity</td>\n",
       "    </tr>\n",
       "    <tr>\n",
       "      <th>2</th>\n",
       "      <td>Opportunists</td>\n",
       "      <td>Psychiatric conditions</td>\n",
       "      <td>Broken homes/families</td>\n",
       "      <td>Experimentation</td>\n",
       "    </tr>\n",
       "    <tr>\n",
       "      <th>3</th>\n",
       "      <td>Strategic planners</td>\n",
       "      <td>Secretive</td>\n",
       "      <td>Broken homes/families</td>\n",
       "      <td>Concealed existence</td>\n",
       "    </tr>\n",
       "    <tr>\n",
       "      <th>4</th>\n",
       "      <td>Well trained</td>\n",
       "      <td>Risk-taker</td>\n",
       "      <td>Unlawful</td>\n",
       "      <td>Religious fundamentalism</td>\n",
       "    </tr>\n",
       "  </tbody>\n",
       "</table>\n",
       "</div>"
      ],
      "text/plain": [
       "   Technical Know How         Personal Traits  \\\n",
       "0        Well-trained                 Immoral   \n",
       "1             Skilful  Conviction in Violence   \n",
       "2        Opportunists  Psychiatric conditions   \n",
       "3  Strategic planners               Secretive   \n",
       "4        Well trained              Risk-taker   \n",
       "\n",
       "                Social Characteristics        Motivating factors  \n",
       "0                     Mass-destruction                     Anger  \n",
       "1  Intolerance to diversity of opinion                 Curiosity  \n",
       "2                Broken homes/families           Experimentation  \n",
       "3                Broken homes/families       Concealed existence  \n",
       "4                             Unlawful  Religious fundamentalism  "
      ]
     },
     "execution_count": 5,
     "metadata": {},
     "output_type": "execute_result"
    }
   ],
   "source": [
    "sampled_technical_know_how = [fake_data.random_element(technical_know_how) for _ in range(100)]\n",
    "sampled_personal_traits = [fake_data.random_element(personal_traits) for _ in range(100)]\n",
    "sampled_social_characteristics = [fake_data.random_element(social_characteristics) for _ in range(100)]\n",
    "sampled_motivating_factors = [fake_data.random_element(motivating_factors) for _ in range(100)]\n",
    "\n",
    "data = pd.DataFrame(list(zip(sampled_technical_know_how,sampled_personal_traits,sampled_social_characteristics,sampled_motivating_factors)),columns= ['Technical Know How','Personal Traits','Social Characteristics','Motivating factors'])\n",
    "data.head()"
   ]
  },
  {
   "cell_type": "code",
   "execution_count": 7,
   "metadata": {},
   "outputs": [
    {
     "data": {
      "text/html": [
       "<div>\n",
       "<style scoped>\n",
       "    .dataframe tbody tr th:only-of-type {\n",
       "        vertical-align: middle;\n",
       "    }\n",
       "\n",
       "    .dataframe tbody tr th {\n",
       "        vertical-align: top;\n",
       "    }\n",
       "\n",
       "    .dataframe thead th {\n",
       "        text-align: right;\n",
       "    }\n",
       "</style>\n",
       "<table border=\"1\" class=\"dataframe\">\n",
       "  <thead>\n",
       "    <tr style=\"text-align: right;\">\n",
       "      <th></th>\n",
       "      <th>Technical Know How</th>\n",
       "      <th>Personal Traits</th>\n",
       "      <th>Social Characteristics</th>\n",
       "      <th>Motivating factors</th>\n",
       "    </tr>\n",
       "  </thead>\n",
       "  <tbody>\n",
       "    <tr>\n",
       "      <th>0</th>\n",
       "      <td>12</td>\n",
       "      <td>10</td>\n",
       "      <td>10</td>\n",
       "      <td>0</td>\n",
       "    </tr>\n",
       "    <tr>\n",
       "      <th>1</th>\n",
       "      <td>7</td>\n",
       "      <td>4</td>\n",
       "      <td>6</td>\n",
       "      <td>2</td>\n",
       "    </tr>\n",
       "    <tr>\n",
       "      <th>2</th>\n",
       "      <td>4</td>\n",
       "      <td>17</td>\n",
       "      <td>4</td>\n",
       "      <td>6</td>\n",
       "    </tr>\n",
       "    <tr>\n",
       "      <th>3</th>\n",
       "      <td>8</td>\n",
       "      <td>20</td>\n",
       "      <td>4</td>\n",
       "      <td>1</td>\n",
       "    </tr>\n",
       "    <tr>\n",
       "      <th>4</th>\n",
       "      <td>9</td>\n",
       "      <td>19</td>\n",
       "      <td>19</td>\n",
       "      <td>17</td>\n",
       "    </tr>\n",
       "  </tbody>\n",
       "</table>\n",
       "</div>"
      ],
      "text/plain": [
       "   Technical Know How  Personal Traits  Social Characteristics  \\\n",
       "0                  12               10                      10   \n",
       "1                   7                4                       6   \n",
       "2                   4               17                       4   \n",
       "3                   8               20                       4   \n",
       "4                   9               19                      19   \n",
       "\n",
       "   Motivating factors  \n",
       "0                   0  \n",
       "1                   2  \n",
       "2                   6  \n",
       "3                   1  \n",
       "4                  17  "
      ]
     },
     "execution_count": 7,
     "metadata": {},
     "output_type": "execute_result"
    }
   ],
   "source": [
    "le = LabelEncoder()\n",
    "X_train = pd.DataFrame(columns=['Technical Know How','Personal Traits','Social Characteristics','Motivating factors'])\n",
    "\n",
    "for column in data.columns:\n",
    "    X_train[column] = le.fit_transform(data[column])\n",
    "\n",
    "X_train.head()"
   ]
  },
  {
   "cell_type": "code",
   "execution_count": 8,
   "metadata": {},
   "outputs": [],
   "source": [
    "pca = PCA(n_components=2)\n",
    "X_train_2 = pca.fit_transform(X_train)\n",
    "feature_1 = X_train_2[:,0]\n",
    "feature_2 = X_train_2[:,1]   "
   ]
  },
  {
   "cell_type": "code",
   "execution_count": 9,
   "metadata": {},
   "outputs": [
    {
     "data": {
      "image/png": "[encoded data removed]",
      "text/plain": [
       "<Figure size 432x288 with 1 Axes>"
      ]
     },
     "metadata": {
      "needs_background": "light"
     },
     "output_type": "display_data"
    }
   ],
   "source": [
    "plt.scatter(feature_1, feature_2)\n",
    "\n",
    "plt.xlabel('Feature 1')\n",
    "plt.ylabel('Feature 2')\n",
    "\n",
    "plt.show()"
   ]
  },
  {
   "cell_type": "code",
   "execution_count": 10,
   "metadata": {},
   "outputs": [
    {
     "data": {
      "image/png": "[encoded data removed]",
      "text/plain": [
       "<Figure size 432x288 with 1 Axes>"
      ]
     },
     "metadata": {
      "needs_background": "light"
     },
     "output_type": "display_data"
    }
   ],
   "source": [
    "sse = []\n",
    "kmeans_kwargs = {\n",
    "    'init':'random',\n",
    "\n",
    "    'n_init':10,\n",
    "    'max_iter':300,\n",
    "    'random_state':42\n",
    "\n",
    "}\n",
    "K = range(1,15)\n",
    "for k in K:\n",
    "    kmeans = KMeans(n_clusters=k,**kmeans_kwargs).fit(X_train_2)\n",
    "    sse.append(kmeans.inertia_)\n",
    "  \n",
    "#Elbow method analysis\n",
    "plt.plot(K, sse, linestyle = '-',marker='X')\n",
    "plt.xlabel('k')\n",
    "plt.ylabel('SSE')\n",
    "plt.title('Elbow Method For Optimal k')\n",
    "plt.show()"
   ]
  },
  {
   "cell_type": "code",
   "execution_count": 16,
   "metadata": {},
   "outputs": [],
   "source": [
    "#Taking k=4 as optimal point\n",
    "kmeans = KMeans(n_clusters=4,).fit(X_train_2)"
   ]
  },
  {
   "cell_type": "code",
   "execution_count": 17,
   "metadata": {},
   "outputs": [
    {
     "data": {
      "text/plain": [
       "array([[-8.59793138, -4.82407452],\n",
       "       [ 7.25020124,  4.90374955],\n",
       "       [-4.68899124,  5.93549662],\n",
       "       [ 3.58934319, -5.81791889]])"
      ]
     },
     "execution_count": 17,
     "metadata": {},
     "output_type": "execute_result"
    }
   ],
   "source": [
    "kmeans.cluster_centers_"
   ]
  },
  {
   "cell_type": "code",
   "execution_count": 18,
   "metadata": {},
   "outputs": [
    {
     "data": {
      "image/png": "[encoded data removed]",
      "text/plain": [
       "<Figure size 432x288 with 1 Axes>"
      ]
     },
     "metadata": {
      "needs_background": "light"
     },
     "output_type": "display_data"
    }
   ],
   "source": [
    "predicted = kmeans.predict(X_train_2)\n",
    "plt.scatter(feature_1, feature_2,c=predicted)\n",
    "plt.scatter(kmeans.cluster_centers_[:,0],kmeans.cluster_centers_[:,1],marker='x',c='red')\n",
    "plt.xlabel('Feature 1')\n",
    "plt.ylabel('Feature 2')\n",
    "\n",
    "plt.show()"
   ]
  },
  {
   "cell_type": "code",
   "execution_count": null,
   "metadata": {},
   "outputs": [],
   "source": []
  }
 ],
 "metadata": {
  "kernelspec": {
   "display_name": "Python 3",
   "language": "python",
   "name": "python3"
  },
  "language_info": {
   "codemirror_mode": {
    "name": "ipython",
    "version": 3
   },
   "file_extension": ".py",
   "mimetype": "text/x-python",
   "name": "python",
   "nbconvert_exporter": "python",
   "pygments_lexer": "ipython3",
   "version": "3.8.5"
  }
 },
 "nbformat": 4,
 "nbformat_minor": 4
}
