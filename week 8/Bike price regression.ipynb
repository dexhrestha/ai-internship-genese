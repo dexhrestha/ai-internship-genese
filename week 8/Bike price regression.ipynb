{
 "cells": [
  {
   "cell_type": "code",
   "execution_count": 1,
   "metadata": {},
   "outputs": [],
   "source": [
    "import requests\n",
    "from bs4 import  BeautifulSoup\n",
    "import numpy as np\n",
    "import pandas as pd\n",
    "\n",
    "dataset = []\n",
    "\n",
    "main_url = 'https://www.sastoramro.com'\n",
    "for p in range(1,402):\n",
    "    res = requests.get('https://www.sastoramro.com/ads-search.html?c=3&s=&p='+str(p))\n",
    "    if res.status_code != 200:\n",
    "        continue\n",
    "    list_page = BeautifulSoup(res.text)\n",
    "    for item in list_page.find_all(class_='prdct'):\n",
    "        data = {}\n",
    "        url = main_url+item.find_all('a',class_='thumbnail')[0]['href']\n",
    "        res = requests.get(url)\n",
    "        soup = BeautifulSoup(res.text)\n",
    "        specs = soup.find_all(class_='clearfix')\n",
    "        for spec in specs:\n",
    "            for i in spec.find_all('div'):\n",
    "                data[i.dt.text.replace(u'\\xa0',' ')]= i.dd.text \n",
    "        if bool(data): #check if dict is empty\n",
    "            dataset.append(data)"
   ]
  },
  {
   "cell_type": "code",
   "execution_count": 2,
   "metadata": {},
   "outputs": [],
   "source": [
    "df = pd.DataFrame(dataset)\n",
    "df.head()"
   ]
  },
  {
   "cell_type": "code",
   "execution_count": 3,
   "metadata": {},
   "outputs": [],
   "source": [
    "df.to_csv('dataset_1904.csv')"
   ]
  },
  {
   "cell_type": "code",
   "execution_count": 2,
   "metadata": {},
   "outputs": [
    {
     "data": {
      "text/html": [
       "<div>\n",
       "<style scoped>\n",
       "    .dataframe tbody tr th:only-of-type {\n",
       "        vertical-align: middle;\n",
       "    }\n",
       "\n",
       "    .dataframe tbody tr th {\n",
       "        vertical-align: top;\n",
       "    }\n",
       "\n",
       "    .dataframe thead th {\n",
       "        text-align: right;\n",
       "    }\n",
       "</style>\n",
       "<table border=\"1\" class=\"dataframe\">\n",
       "  <thead>\n",
       "    <tr style=\"text-align: right;\">\n",
       "      <th></th>\n",
       "      <th>Year:</th>\n",
       "      <th>Seller:</th>\n",
       "      <th>Bike make:</th>\n",
       "      <th>Zone:</th>\n",
       "      <th>Starter:</th>\n",
       "      <th>Kilometers:</th>\n",
       "      <th>Warranty:</th>\n",
       "      <th>Condition:</th>\n",
       "      <th>Negotiable:</th>\n",
       "      <th>Lot number:</th>\n",
       "      <th>...</th>\n",
       "      <th>Displacement:</th>\n",
       "      <th>Engine type:</th>\n",
       "      <th>Power:</th>\n",
       "      <th>Gearbox:</th>\n",
       "      <th>Ignition system:</th>\n",
       "      <th>Reserve fuel capacity:</th>\n",
       "      <th>Mileage:</th>\n",
       "      <th>Fuel control:</th>\n",
       "      <th>Transmission type:</th>\n",
       "      <th>Fuel comsumption:</th>\n",
       "    </tr>\n",
       "  </thead>\n",
       "  <tbody>\n",
       "    <tr>\n",
       "      <th>0</th>\n",
       "      <td>2012.0</td>\n",
       "      <td>Owner</td>\n",
       "      <td>Bajaj</td>\n",
       "      <td>Narayani</td>\n",
       "      <td>Electric</td>\n",
       "      <td>55000.0</td>\n",
       "      <td>None</td>\n",
       "      <td>New</td>\n",
       "      <td>Negotiable</td>\n",
       "      <td>21.0</td>\n",
       "      <td>...</td>\n",
       "      <td>NaN</td>\n",
       "      <td>NaN</td>\n",
       "      <td>NaN</td>\n",
       "      <td>NaN</td>\n",
       "      <td>NaN</td>\n",
       "      <td>NaN</td>\n",
       "      <td>NaN</td>\n",
       "      <td>NaN</td>\n",
       "      <td>NaN</td>\n",
       "      <td>NaN</td>\n",
       "    </tr>\n",
       "    <tr>\n",
       "      <th>1</th>\n",
       "      <td>2016.0</td>\n",
       "      <td>Owner</td>\n",
       "      <td>Bajaj</td>\n",
       "      <td>Lumbini</td>\n",
       "      <td>NaN</td>\n",
       "      <td>48000.0</td>\n",
       "      <td>None</td>\n",
       "      <td>New</td>\n",
       "      <td>Negotiable</td>\n",
       "      <td>20.0</td>\n",
       "      <td>...</td>\n",
       "      <td>NaN</td>\n",
       "      <td>NaN</td>\n",
       "      <td>NaN</td>\n",
       "      <td>NaN</td>\n",
       "      <td>NaN</td>\n",
       "      <td>NaN</td>\n",
       "      <td>NaN</td>\n",
       "      <td>NaN</td>\n",
       "      <td>NaN</td>\n",
       "      <td>NaN</td>\n",
       "    </tr>\n",
       "    <tr>\n",
       "      <th>2</th>\n",
       "      <td>2019.0</td>\n",
       "      <td>Owner</td>\n",
       "      <td>Benelli</td>\n",
       "      <td>Lumbini</td>\n",
       "      <td>NaN</td>\n",
       "      <td>8500.0</td>\n",
       "      <td>None</td>\n",
       "      <td>New</td>\n",
       "      <td>NaN</td>\n",
       "      <td>58.0</td>\n",
       "      <td>...</td>\n",
       "      <td>NaN</td>\n",
       "      <td>NaN</td>\n",
       "      <td>NaN</td>\n",
       "      <td>NaN</td>\n",
       "      <td>NaN</td>\n",
       "      <td>NaN</td>\n",
       "      <td>NaN</td>\n",
       "      <td>NaN</td>\n",
       "      <td>NaN</td>\n",
       "      <td>NaN</td>\n",
       "    </tr>\n",
       "    <tr>\n",
       "      <th>3</th>\n",
       "      <td>2018.0</td>\n",
       "      <td>Owner</td>\n",
       "      <td>Royal Enfield</td>\n",
       "      <td>Bagmati</td>\n",
       "      <td>NaN</td>\n",
       "      <td>6000.0</td>\n",
       "      <td>None</td>\n",
       "      <td>New</td>\n",
       "      <td>NaN</td>\n",
       "      <td>2.0</td>\n",
       "      <td>...</td>\n",
       "      <td>346 cc</td>\n",
       "      <td>Single Cylinder, 4 stroke, Twinspark, Air cooled</td>\n",
       "      <td>20</td>\n",
       "      <td>5 Speed Constant Mesh</td>\n",
       "      <td>Transistorized Coil Ignition (TCI)</td>\n",
       "      <td>1.25 litre</td>\n",
       "      <td>NaN</td>\n",
       "      <td>NaN</td>\n",
       "      <td>NaN</td>\n",
       "      <td>NaN</td>\n",
       "    </tr>\n",
       "    <tr>\n",
       "      <th>4</th>\n",
       "      <td>2010.0</td>\n",
       "      <td>NaN</td>\n",
       "      <td>Hero</td>\n",
       "      <td>Mechi</td>\n",
       "      <td>NaN</td>\n",
       "      <td>60000.0</td>\n",
       "      <td>None</td>\n",
       "      <td>New</td>\n",
       "      <td>Negotiable</td>\n",
       "      <td>4.0</td>\n",
       "      <td>...</td>\n",
       "      <td>NaN</td>\n",
       "      <td>NaN</td>\n",
       "      <td>NaN</td>\n",
       "      <td>4</td>\n",
       "      <td>NaN</td>\n",
       "      <td>NaN</td>\n",
       "      <td>NaN</td>\n",
       "      <td>NaN</td>\n",
       "      <td>NaN</td>\n",
       "      <td>NaN</td>\n",
       "    </tr>\n",
       "  </tbody>\n",
       "</table>\n",
       "<p>5 rows × 23 columns</p>\n",
       "</div>"
      ],
      "text/plain": [
       "    Year: Seller:     Bike make:     Zone:  Starter:  Kilometers: Warranty:  \\\n",
       "0  2012.0   Owner          Bajaj  Narayani  Electric      55000.0      None   \n",
       "1  2016.0   Owner          Bajaj   Lumbini       NaN      48000.0      None   \n",
       "2  2019.0   Owner        Benelli   Lumbini       NaN       8500.0      None   \n",
       "3  2018.0   Owner  Royal Enfield   Bagmati       NaN       6000.0      None   \n",
       "4  2010.0     NaN           Hero     Mechi       NaN      60000.0      None   \n",
       "\n",
       "  Condition: Negotiable:  Lot number:  ... Displacement:  \\\n",
       "0        New  Negotiable         21.0  ...           NaN   \n",
       "1        New  Negotiable         20.0  ...           NaN   \n",
       "2        New         NaN         58.0  ...           NaN   \n",
       "3        New         NaN          2.0  ...        346 cc   \n",
       "4        New  Negotiable          4.0  ...           NaN   \n",
       "\n",
       "                                       Engine type: Power:  \\\n",
       "0                                               NaN    NaN   \n",
       "1                                               NaN    NaN   \n",
       "2                                               NaN    NaN   \n",
       "3  Single Cylinder, 4 stroke, Twinspark, Air cooled     20   \n",
       "4                                               NaN    NaN   \n",
       "\n",
       "                Gearbox:                    Ignition system:  \\\n",
       "0                    NaN                                 NaN   \n",
       "1                    NaN                                 NaN   \n",
       "2                    NaN                                 NaN   \n",
       "3  5 Speed Constant Mesh  Transistorized Coil Ignition (TCI)   \n",
       "4                      4                                 NaN   \n",
       "\n",
       "  Reserve fuel capacity: Mileage: Fuel control: Transmission type:  \\\n",
       "0                    NaN      NaN           NaN                NaN   \n",
       "1                    NaN      NaN           NaN                NaN   \n",
       "2                    NaN      NaN           NaN                NaN   \n",
       "3             1.25 litre      NaN           NaN                NaN   \n",
       "4                    NaN      NaN           NaN                NaN   \n",
       "\n",
       "  Fuel comsumption:  \n",
       "0               NaN  \n",
       "1               NaN  \n",
       "2               NaN  \n",
       "3               NaN  \n",
       "4               NaN  \n",
       "\n",
       "[5 rows x 23 columns]"
      ]
     },
     "execution_count": 2,
     "metadata": {},
     "output_type": "execute_result"
    }
   ],
   "source": [
    "df = pd.read_csv('dataset_1904.csv')\n",
    "df.head()"
   ]
  },
  {
   "cell_type": "code",
   "execution_count": 3,
   "metadata": {},
   "outputs": [],
   "source": [
    "df = df[df['Price:'].notna()]\n",
    "df['Price:'] =pd.to_numeric(df['Price:'].apply(lambda x:x[2:].replace(',','').strip()))"
   ]
  },
  {
   "cell_type": "code",
   "execution_count": 4,
   "metadata": {},
   "outputs": [],
   "source": [
    "less_than_50 = df.isna().sum()/df.shape[0] < 0.4\n",
    "df = df[df.columns[less_than_50.values]]"
   ]
  },
  {
   "cell_type": "code",
   "execution_count": 5,
   "metadata": {},
   "outputs": [],
   "source": [
    "df.drop(columns=['Seller:','Negotiable:'],inplace=True)"
   ]
  },
  {
   "cell_type": "code",
   "execution_count": 6,
   "metadata": {},
   "outputs": [
    {
     "data": {
      "text/plain": [
       "Year:          192\n",
       "Bike make:       0\n",
       "Zone:            0\n",
       "Kilometers:     86\n",
       "Warranty:        0\n",
       "Condition:       0\n",
       "Lot number:      0\n",
       "Price:           0\n",
       "Bike model:     76\n",
       "dtype: int64"
      ]
     },
     "execution_count": 6,
     "metadata": {},
     "output_type": "execute_result"
    }
   ],
   "source": [
    "df.isna().sum()"
   ]
  },
  {
   "cell_type": "code",
   "execution_count": 7,
   "metadata": {},
   "outputs": [],
   "source": [
    "df['Kilometers:'].fillna(0,inplace=True)\n",
    "df['Year:'].fillna(df.mean(),inplace=True)"
   ]
  },
  {
   "cell_type": "code",
   "execution_count": 8,
   "metadata": {},
   "outputs": [
    {
     "data": {
      "text/html": [
       "<div>\n",
       "<style scoped>\n",
       "    .dataframe tbody tr th:only-of-type {\n",
       "        vertical-align: middle;\n",
       "    }\n",
       "\n",
       "    .dataframe tbody tr th {\n",
       "        vertical-align: top;\n",
       "    }\n",
       "\n",
       "    .dataframe thead th {\n",
       "        text-align: right;\n",
       "    }\n",
       "</style>\n",
       "<table border=\"1\" class=\"dataframe\">\n",
       "  <thead>\n",
       "    <tr style=\"text-align: right;\">\n",
       "      <th></th>\n",
       "      <th>Year:</th>\n",
       "      <th>Bike make:</th>\n",
       "      <th>Zone:</th>\n",
       "      <th>Kilometers:</th>\n",
       "      <th>Warranty:</th>\n",
       "      <th>Condition:</th>\n",
       "      <th>Lot number:</th>\n",
       "      <th>Price:</th>\n",
       "      <th>Bike model:</th>\n",
       "    </tr>\n",
       "  </thead>\n",
       "  <tbody>\n",
       "    <tr>\n",
       "      <th>0</th>\n",
       "      <td>2012.0</td>\n",
       "      <td>Bajaj</td>\n",
       "      <td>Narayani</td>\n",
       "      <td>55000.0</td>\n",
       "      <td>None</td>\n",
       "      <td>New</td>\n",
       "      <td>21.0</td>\n",
       "      <td>100000.0</td>\n",
       "      <td>NaN</td>\n",
       "    </tr>\n",
       "    <tr>\n",
       "      <th>30</th>\n",
       "      <td>2019.0</td>\n",
       "      <td>Yamaha</td>\n",
       "      <td>Bagmati</td>\n",
       "      <td>0.0</td>\n",
       "      <td>None</td>\n",
       "      <td>New</td>\n",
       "      <td>105.0</td>\n",
       "      <td>355000.0</td>\n",
       "      <td>NaN</td>\n",
       "    </tr>\n",
       "    <tr>\n",
       "      <th>32</th>\n",
       "      <td>2018.0</td>\n",
       "      <td>Other Bike Brand</td>\n",
       "      <td>Bagmati</td>\n",
       "      <td>9800.0</td>\n",
       "      <td>None</td>\n",
       "      <td>New</td>\n",
       "      <td>95.0</td>\n",
       "      <td>349999.0</td>\n",
       "      <td>NaN</td>\n",
       "    </tr>\n",
       "    <tr>\n",
       "      <th>42</th>\n",
       "      <td>2019.0</td>\n",
       "      <td>Other Bike Brand</td>\n",
       "      <td>Lumbini</td>\n",
       "      <td>0.0</td>\n",
       "      <td>None</td>\n",
       "      <td>New</td>\n",
       "      <td>18.0</td>\n",
       "      <td>250000.0</td>\n",
       "      <td>NaN</td>\n",
       "    </tr>\n",
       "    <tr>\n",
       "      <th>44</th>\n",
       "      <td>2019.0</td>\n",
       "      <td>Crossfire</td>\n",
       "      <td>Bagmati</td>\n",
       "      <td>600.0</td>\n",
       "      <td>None</td>\n",
       "      <td>New</td>\n",
       "      <td>13.0</td>\n",
       "      <td>510000.0</td>\n",
       "      <td>NaN</td>\n",
       "    </tr>\n",
       "    <tr>\n",
       "      <th>...</th>\n",
       "      <td>...</td>\n",
       "      <td>...</td>\n",
       "      <td>...</td>\n",
       "      <td>...</td>\n",
       "      <td>...</td>\n",
       "      <td>...</td>\n",
       "      <td>...</td>\n",
       "      <td>...</td>\n",
       "      <td>...</td>\n",
       "    </tr>\n",
       "    <tr>\n",
       "      <th>1769</th>\n",
       "      <td>NaN</td>\n",
       "      <td>Suzuki</td>\n",
       "      <td>Bagmati</td>\n",
       "      <td>16000.0</td>\n",
       "      <td>None</td>\n",
       "      <td>New</td>\n",
       "      <td>63.0</td>\n",
       "      <td>1200000.0</td>\n",
       "      <td>NaN</td>\n",
       "    </tr>\n",
       "    <tr>\n",
       "      <th>1804</th>\n",
       "      <td>2010.0</td>\n",
       "      <td>Bajaj</td>\n",
       "      <td>Bagmati</td>\n",
       "      <td>43000.0</td>\n",
       "      <td>None</td>\n",
       "      <td>New</td>\n",
       "      <td>39.0</td>\n",
       "      <td>80.0</td>\n",
       "      <td>NaN</td>\n",
       "    </tr>\n",
       "    <tr>\n",
       "      <th>1807</th>\n",
       "      <td>2008.0</td>\n",
       "      <td>Royal Enfield</td>\n",
       "      <td>Bagmati</td>\n",
       "      <td>11800.0</td>\n",
       "      <td>None</td>\n",
       "      <td>New</td>\n",
       "      <td>43.0</td>\n",
       "      <td>260000.0</td>\n",
       "      <td>NaN</td>\n",
       "    </tr>\n",
       "    <tr>\n",
       "      <th>1821</th>\n",
       "      <td>2017.0</td>\n",
       "      <td>Other Bike Brand</td>\n",
       "      <td>Gandaki</td>\n",
       "      <td>330.0</td>\n",
       "      <td>Available</td>\n",
       "      <td>New</td>\n",
       "      <td>13.0</td>\n",
       "      <td>290000.0</td>\n",
       "      <td>NaN</td>\n",
       "    </tr>\n",
       "    <tr>\n",
       "      <th>1857</th>\n",
       "      <td>NaN</td>\n",
       "      <td>Hero</td>\n",
       "      <td>Gandaki</td>\n",
       "      <td>30000.0</td>\n",
       "      <td>None</td>\n",
       "      <td>New</td>\n",
       "      <td>6.0</td>\n",
       "      <td>105000.0</td>\n",
       "      <td>NaN</td>\n",
       "    </tr>\n",
       "  </tbody>\n",
       "</table>\n",
       "<p>76 rows × 9 columns</p>\n",
       "</div>"
      ],
      "text/plain": [
       "       Year:        Bike make:     Zone:  Kilometers:  Warranty: Condition:  \\\n",
       "0     2012.0             Bajaj  Narayani      55000.0       None        New   \n",
       "30    2019.0            Yamaha   Bagmati          0.0       None        New   \n",
       "32    2018.0  Other Bike Brand   Bagmati       9800.0       None        New   \n",
       "42    2019.0  Other Bike Brand   Lumbini          0.0       None        New   \n",
       "44    2019.0         Crossfire   Bagmati        600.0       None        New   \n",
       "...      ...               ...       ...          ...        ...        ...   \n",
       "1769     NaN            Suzuki   Bagmati      16000.0       None        New   \n",
       "1804  2010.0             Bajaj   Bagmati      43000.0       None        New   \n",
       "1807  2008.0     Royal Enfield   Bagmati      11800.0       None        New   \n",
       "1821  2017.0  Other Bike Brand   Gandaki        330.0  Available        New   \n",
       "1857     NaN              Hero   Gandaki      30000.0       None        New   \n",
       "\n",
       "      Lot number:     Price: Bike model:  \n",
       "0            21.0   100000.0         NaN  \n",
       "30          105.0   355000.0         NaN  \n",
       "32           95.0   349999.0         NaN  \n",
       "42           18.0   250000.0         NaN  \n",
       "44           13.0   510000.0         NaN  \n",
       "...           ...        ...         ...  \n",
       "1769         63.0  1200000.0         NaN  \n",
       "1804         39.0       80.0         NaN  \n",
       "1807         43.0   260000.0         NaN  \n",
       "1821         13.0   290000.0         NaN  \n",
       "1857          6.0   105000.0         NaN  \n",
       "\n",
       "[76 rows x 9 columns]"
      ]
     },
     "execution_count": 8,
     "metadata": {},
     "output_type": "execute_result"
    }
   ],
   "source": [
    "nan_bikes = df.loc[df['Bike model:'].isna().values]\n",
    "nan_bikes"
   ]
  },
  {
   "cell_type": "code",
   "execution_count": 9,
   "metadata": {},
   "outputs": [],
   "source": [
    "df['Year:'] = df['Year:'].fillna(df['Year:'].mean())"
   ]
  },
  {
   "cell_type": "code",
   "execution_count": 10,
   "metadata": {},
   "outputs": [],
   "source": [
    "nan_bikes = df[df['Bike model:'].isna()].index\n",
    "df.drop(nan_bikes,axis=0,inplace=True)"
   ]
  },
  {
   "cell_type": "code",
   "execution_count": 11,
   "metadata": {},
   "outputs": [
    {
     "data": {
      "text/plain": [
       "Year:          0\n",
       "Bike make:     0\n",
       "Zone:          0\n",
       "Kilometers:    0\n",
       "Warranty:      0\n",
       "Condition:     0\n",
       "Lot number:    0\n",
       "Price:         0\n",
       "Bike model:    0\n",
       "dtype: int64"
      ]
     },
     "execution_count": 11,
     "metadata": {},
     "output_type": "execute_result"
    }
   ],
   "source": [
    "df.isna().sum()"
   ]
  },
  {
   "cell_type": "code",
   "execution_count": 14,
   "metadata": {},
   "outputs": [
    {
     "data": {
      "text/html": [
       "<div>\n",
       "<style scoped>\n",
       "    .dataframe tbody tr th:only-of-type {\n",
       "        vertical-align: middle;\n",
       "    }\n",
       "\n",
       "    .dataframe tbody tr th {\n",
       "        vertical-align: top;\n",
       "    }\n",
       "\n",
       "    .dataframe thead th {\n",
       "        text-align: right;\n",
       "    }\n",
       "</style>\n",
       "<table border=\"1\" class=\"dataframe\">\n",
       "  <thead>\n",
       "    <tr style=\"text-align: right;\">\n",
       "      <th></th>\n",
       "      <th>Year:</th>\n",
       "      <th>Bike make:</th>\n",
       "      <th>Zone:</th>\n",
       "      <th>Kilometers:</th>\n",
       "      <th>Warranty:</th>\n",
       "      <th>Condition:</th>\n",
       "      <th>Lot number:</th>\n",
       "      <th>Price:</th>\n",
       "      <th>Bike model:</th>\n",
       "    </tr>\n",
       "  </thead>\n",
       "  <tbody>\n",
       "    <tr>\n",
       "      <th>1</th>\n",
       "      <td>2016.0</td>\n",
       "      <td>Bajaj</td>\n",
       "      <td>Lumbini</td>\n",
       "      <td>48000.0</td>\n",
       "      <td>None</td>\n",
       "      <td>New</td>\n",
       "      <td>20.0</td>\n",
       "      <td>125000.0</td>\n",
       "      <td>Bajaj Pulsar 150cc</td>\n",
       "    </tr>\n",
       "    <tr>\n",
       "      <th>4</th>\n",
       "      <td>2010.0</td>\n",
       "      <td>Hero</td>\n",
       "      <td>Mechi</td>\n",
       "      <td>60000.0</td>\n",
       "      <td>None</td>\n",
       "      <td>New</td>\n",
       "      <td>4.0</td>\n",
       "      <td>80000.0</td>\n",
       "      <td>Hero Super Splendor DRS</td>\n",
       "    </tr>\n",
       "    <tr>\n",
       "      <th>6</th>\n",
       "      <td>2018.0</td>\n",
       "      <td>Bajaj</td>\n",
       "      <td>Mechi</td>\n",
       "      <td>12500.0</td>\n",
       "      <td>Available</td>\n",
       "      <td>New</td>\n",
       "      <td>9.0</td>\n",
       "      <td>185000.0</td>\n",
       "      <td>Bajaj Pulsar 150cc</td>\n",
       "    </tr>\n",
       "    <tr>\n",
       "      <th>8</th>\n",
       "      <td>2018.0</td>\n",
       "      <td>Bajaj</td>\n",
       "      <td>Gandaki</td>\n",
       "      <td>12000.0</td>\n",
       "      <td>None</td>\n",
       "      <td>New</td>\n",
       "      <td>15.0</td>\n",
       "      <td>235000.0</td>\n",
       "      <td>Bajaj Pulsar 220F Frame</td>\n",
       "    </tr>\n",
       "    <tr>\n",
       "      <th>9</th>\n",
       "      <td>2017.0</td>\n",
       "      <td>Honda</td>\n",
       "      <td>Koshi</td>\n",
       "      <td>33000.0</td>\n",
       "      <td>None</td>\n",
       "      <td>New</td>\n",
       "      <td>32.0</td>\n",
       "      <td>200000.0</td>\n",
       "      <td>CB Unicorn 160</td>\n",
       "    </tr>\n",
       "  </tbody>\n",
       "</table>\n",
       "</div>"
      ],
      "text/plain": [
       "    Year: Bike make:    Zone:  Kilometers:  Warranty: Condition:  Lot number:  \\\n",
       "1  2016.0      Bajaj  Lumbini      48000.0       None        New         20.0   \n",
       "4  2010.0       Hero    Mechi      60000.0       None        New          4.0   \n",
       "6  2018.0      Bajaj    Mechi      12500.0  Available        New          9.0   \n",
       "8  2018.0      Bajaj  Gandaki      12000.0       None        New         15.0   \n",
       "9  2017.0      Honda    Koshi      33000.0       None        New         32.0   \n",
       "\n",
       "     Price:              Bike model:  \n",
       "1  125000.0       Bajaj Pulsar 150cc  \n",
       "4   80000.0  Hero Super Splendor DRS  \n",
       "6  185000.0       Bajaj Pulsar 150cc  \n",
       "8  235000.0  Bajaj Pulsar 220F Frame  \n",
       "9  200000.0           CB Unicorn 160  "
      ]
     },
     "execution_count": 14,
     "metadata": {},
     "output_type": "execute_result"
    }
   ],
   "source": [
    "df.head()"
   ]
  },
  {
   "cell_type": "code",
   "execution_count": 15,
   "metadata": {},
   "outputs": [],
   "source": [
    "from sklearn.preprocessing import LabelEncoder,StandardScaler\n",
    "le = LabelEncoder()\n",
    "df['Bike make:'] = le.fit_transform(df['Bike make:'].values)\n",
    "df['Zone:'] = le.fit_transform(df['Zone:'].values)\n",
    "df['Warranty:'] = le.fit_transform(df['Warranty:'].values)\n",
    "df['Condition:'] = le.fit_transform(df['Condition:'].values)\n",
    "df['Bike model:'] = le.fit_transform(df['Bike model:'].values)\n",
    "\n"
   ]
  },
  {
   "cell_type": "code",
   "execution_count": 16,
   "metadata": {},
   "outputs": [],
   "source": [
    "#find correlation matrix\n",
    "corr_mat = df.corr()"
   ]
  },
  {
   "cell_type": "code",
   "execution_count": 17,
   "metadata": {
    "scrolled": true
   },
   "outputs": [
    {
     "data": {
      "text/plain": [
       "<AxesSubplot:>"
      ]
     },
     "execution_count": 17,
     "metadata": {},
     "output_type": "execute_result"
    },
    {
     "data": {
      "image/png": "[encoded data removed]",
      "text/plain": [
       "<Figure size 432x288 with 2 Axes>"
      ]
     },
     "metadata": {
      "needs_background": "light"
     },
     "output_type": "display_data"
    }
   ],
   "source": [
    "import seaborn as sns\n",
    "from matplotlib import pyplot as plt\n",
    "sns.heatmap(corr_mat,annot=True)"
   ]
  },
  {
   "cell_type": "code",
   "execution_count": 18,
   "metadata": {},
   "outputs": [],
   "source": [
    "X = df.drop(columns=['Price:'])\n",
    "y = df['Price:'].values.reshape(-1,1)"
   ]
  },
  {
   "cell_type": "code",
   "execution_count": 19,
   "metadata": {},
   "outputs": [],
   "source": [
    "ss = StandardScaler()\n",
    "X_scaled = ss.fit_transform(X)"
   ]
  },
  {
   "cell_type": "code",
   "execution_count": 20,
   "metadata": {},
   "outputs": [],
   "source": [
    "y = y/1000 #y scaled by 1k"
   ]
  },
  {
   "cell_type": "code",
   "execution_count": 21,
   "metadata": {},
   "outputs": [],
   "source": [
    "from sklearn.model_selection  import train_test_split\n",
    "X_train,X_test,y_train,y_test = train_test_split(X_scaled,y,test_size=0.3)"
   ]
  },
  {
   "cell_type": "code",
   "execution_count": 22,
   "metadata": {
    "scrolled": true
   },
   "outputs": [
    {
     "name": "stderr",
     "output_type": "stream",
     "text": [
      "C:\\Users\\Dpka\\anaconda3\\envs\\test\\lib\\site-packages\\sklearn\\utils\\validation.py:72: DataConversionWarning: A column-vector y was passed when a 1d array was expected. Please change the shape of y to (n_samples, ), for example using ravel().\n",
      "  return f(**kwargs)\n"
     ]
    }
   ],
   "source": [
    "from sklearn.feature_selection import SelectKBest\n",
    "from sklearn.feature_selection import f_regression\n",
    "\n",
    "fs = SelectKBest(score_func=f_regression, k='all')\n",
    "\n",
    "fs.fit(X_train,y_train)\n",
    "\n",
    "X_train_ = fs.transform(X_train)\n",
    "X_test_ = fs.transform(X_test)"
   ]
  },
  {
   "cell_type": "code",
   "execution_count": 23,
   "metadata": {},
   "outputs": [
    {
     "data": {
      "text/plain": [
       "LinearRegression()"
      ]
     },
     "execution_count": 23,
     "metadata": {},
     "output_type": "execute_result"
    }
   ],
   "source": [
    "from sklearn.linear_model import LinearRegression\n",
    "regression  = LinearRegression()\n",
    "regression.fit(X_train_,y_train)"
   ]
  },
  {
   "cell_type": "code",
   "execution_count": 24,
   "metadata": {},
   "outputs": [],
   "source": [
    "y_pred = regression.predict(X_test)\n",
    "y_pred = y_pred.reshape(-1,1)"
   ]
  },
  {
   "cell_type": "code",
   "execution_count": 25,
   "metadata": {},
   "outputs": [
    {
     "data": {
      "text/plain": [
       "(420, 1)"
      ]
     },
     "execution_count": 25,
     "metadata": {},
     "output_type": "execute_result"
    }
   ],
   "source": [
    "y_pred.shape"
   ]
  },
  {
   "cell_type": "code",
   "execution_count": 26,
   "metadata": {},
   "outputs": [
    {
     "data": {
      "text/plain": [
       "0.07211911986180741"
      ]
     },
     "execution_count": 26,
     "metadata": {},
     "output_type": "execute_result"
    }
   ],
   "source": [
    "regression.score(X_test,y_test)"
   ]
  },
  {
   "cell_type": "code",
   "execution_count": 27,
   "metadata": {},
   "outputs": [
    {
     "name": "stdout",
     "output_type": "stream",
     "text": [
      "Mean Square Error :  26628.871929457466\n"
     ]
    }
   ],
   "source": [
    "from sklearn.metrics import mean_squared_error \n",
    "mse = mean_squared_error(y_test, y_pred) \n",
    "print(\"Mean Square Error : \", mse)"
   ]
  },
  {
   "cell_type": "code",
   "execution_count": 30,
   "metadata": {},
   "outputs": [],
   "source": [
    "#BOSTON HOUSE PRIce\n",
    "from sklearn.datasets import load_boston\n",
    "\n",
    "data = load_boston()"
   ]
  },
  {
   "cell_type": "code",
   "execution_count": 31,
   "metadata": {},
   "outputs": [
    {
     "name": "stdout",
     "output_type": "stream",
     "text": [
      ".. _boston_dataset:\n",
      "\n",
      "Boston house prices dataset\n",
      "---------------------------\n",
      "\n",
      "**Data Set Characteristics:**  \n",
      "\n",
      "    :Number of Instances: 506 \n",
      "\n",
      "    :Number of Attributes: 13 numeric/categorical predictive. Median Value (attribute 14) is usually the target.\n",
      "\n",
      "    :Attribute Information (in order):\n",
      "        - CRIM     per capita crime rate by town\n",
      "        - ZN       proportion of residential land zoned for lots over 25,000 sq.ft.\n",
      "        - INDUS    proportion of non-retail business acres per town\n",
      "        - CHAS     Charles River dummy variable (= 1 if tract bounds river; 0 otherwise)\n",
      "        - NOX      nitric oxides concentration (parts per 10 million)\n",
      "        - RM       average number of rooms per dwelling\n",
      "        - AGE      proportion of owner-occupied units built prior to 1940\n",
      "        - DIS      weighted distances to five Boston employment centres\n",
      "        - RAD      index of accessibility to radial highways\n",
      "        - TAX      full-value property-tax rate per $10,000\n",
      "        - PTRATIO  pupil-teacher ratio by town\n",
      "        - B        1000(Bk - 0.63)^2 where Bk is the proportion of blacks by town\n",
      "        - LSTAT    % lower status of the population\n",
      "        - MEDV     Median value of owner-occupied homes in $1000's\n",
      "\n",
      "    :Missing Attribute Values: None\n",
      "\n",
      "    :Creator: Harrison, D. and Rubinfeld, D.L.\n",
      "\n",
      "This is a copy of UCI ML housing dataset.\n",
      "https://archive.ics.uci.edu/ml/machine-learning-databases/housing/\n",
      "\n",
      "\n",
      "This dataset was taken from the StatLib library which is maintained at Carnegie Mellon University.\n",
      "\n",
      "The Boston house-price data of Harrison, D. and Rubinfeld, D.L. 'Hedonic\n",
      "prices and the demand for clean air', J. Environ. Economics & Management,\n",
      "vol.5, 81-102, 1978.   Used in Belsley, Kuh & Welsch, 'Regression diagnostics\n",
      "...', Wiley, 1980.   N.B. Various transformations are used in the table on\n",
      "pages 244-261 of the latter.\n",
      "\n",
      "The Boston house-price data has been used in many machine learning papers that address regression\n",
      "problems.   \n",
      "     \n",
      ".. topic:: References\n",
      "\n",
      "   - Belsley, Kuh & Welsch, 'Regression diagnostics: Identifying Influential Data and Sources of Collinearity', Wiley, 1980. 244-261.\n",
      "   - Quinlan,R. (1993). Combining Instance-Based and Model-Based Learning. In Proceedings on the Tenth International Conference of Machine Learning, 236-243, University of Massachusetts, Amherst. Morgan Kaufmann.\n",
      "\n"
     ]
    }
   ],
   "source": [
    "print(data.DESCR)"
   ]
  },
  {
   "cell_type": "code",
   "execution_count": 32,
   "metadata": {},
   "outputs": [
    {
     "data": {
      "text/html": [
       "<div>\n",
       "<style scoped>\n",
       "    .dataframe tbody tr th:only-of-type {\n",
       "        vertical-align: middle;\n",
       "    }\n",
       "\n",
       "    .dataframe tbody tr th {\n",
       "        vertical-align: top;\n",
       "    }\n",
       "\n",
       "    .dataframe thead th {\n",
       "        text-align: right;\n",
       "    }\n",
       "</style>\n",
       "<table border=\"1\" class=\"dataframe\">\n",
       "  <thead>\n",
       "    <tr style=\"text-align: right;\">\n",
       "      <th></th>\n",
       "      <th>CRIM</th>\n",
       "      <th>ZN</th>\n",
       "      <th>INDUS</th>\n",
       "      <th>CHAS</th>\n",
       "      <th>NOX</th>\n",
       "      <th>RM</th>\n",
       "      <th>AGE</th>\n",
       "      <th>DIS</th>\n",
       "      <th>RAD</th>\n",
       "      <th>TAX</th>\n",
       "      <th>PTRATIO</th>\n",
       "      <th>B</th>\n",
       "      <th>LSTAT</th>\n",
       "    </tr>\n",
       "  </thead>\n",
       "  <tbody>\n",
       "    <tr>\n",
       "      <th>0</th>\n",
       "      <td>0.00632</td>\n",
       "      <td>18.0</td>\n",
       "      <td>2.31</td>\n",
       "      <td>0.0</td>\n",
       "      <td>0.538</td>\n",
       "      <td>6.575</td>\n",
       "      <td>65.2</td>\n",
       "      <td>4.0900</td>\n",
       "      <td>1.0</td>\n",
       "      <td>296.0</td>\n",
       "      <td>15.3</td>\n",
       "      <td>396.90</td>\n",
       "      <td>4.98</td>\n",
       "    </tr>\n",
       "    <tr>\n",
       "      <th>1</th>\n",
       "      <td>0.02731</td>\n",
       "      <td>0.0</td>\n",
       "      <td>7.07</td>\n",
       "      <td>0.0</td>\n",
       "      <td>0.469</td>\n",
       "      <td>6.421</td>\n",
       "      <td>78.9</td>\n",
       "      <td>4.9671</td>\n",
       "      <td>2.0</td>\n",
       "      <td>242.0</td>\n",
       "      <td>17.8</td>\n",
       "      <td>396.90</td>\n",
       "      <td>9.14</td>\n",
       "    </tr>\n",
       "    <tr>\n",
       "      <th>2</th>\n",
       "      <td>0.02729</td>\n",
       "      <td>0.0</td>\n",
       "      <td>7.07</td>\n",
       "      <td>0.0</td>\n",
       "      <td>0.469</td>\n",
       "      <td>7.185</td>\n",
       "      <td>61.1</td>\n",
       "      <td>4.9671</td>\n",
       "      <td>2.0</td>\n",
       "      <td>242.0</td>\n",
       "      <td>17.8</td>\n",
       "      <td>392.83</td>\n",
       "      <td>4.03</td>\n",
       "    </tr>\n",
       "    <tr>\n",
       "      <th>3</th>\n",
       "      <td>0.03237</td>\n",
       "      <td>0.0</td>\n",
       "      <td>2.18</td>\n",
       "      <td>0.0</td>\n",
       "      <td>0.458</td>\n",
       "      <td>6.998</td>\n",
       "      <td>45.8</td>\n",
       "      <td>6.0622</td>\n",
       "      <td>3.0</td>\n",
       "      <td>222.0</td>\n",
       "      <td>18.7</td>\n",
       "      <td>394.63</td>\n",
       "      <td>2.94</td>\n",
       "    </tr>\n",
       "    <tr>\n",
       "      <th>4</th>\n",
       "      <td>0.06905</td>\n",
       "      <td>0.0</td>\n",
       "      <td>2.18</td>\n",
       "      <td>0.0</td>\n",
       "      <td>0.458</td>\n",
       "      <td>7.147</td>\n",
       "      <td>54.2</td>\n",
       "      <td>6.0622</td>\n",
       "      <td>3.0</td>\n",
       "      <td>222.0</td>\n",
       "      <td>18.7</td>\n",
       "      <td>396.90</td>\n",
       "      <td>5.33</td>\n",
       "    </tr>\n",
       "  </tbody>\n",
       "</table>\n",
       "</div>"
      ],
      "text/plain": [
       "      CRIM    ZN  INDUS  CHAS    NOX     RM   AGE     DIS  RAD    TAX  \\\n",
       "0  0.00632  18.0   2.31   0.0  0.538  6.575  65.2  4.0900  1.0  296.0   \n",
       "1  0.02731   0.0   7.07   0.0  0.469  6.421  78.9  4.9671  2.0  242.0   \n",
       "2  0.02729   0.0   7.07   0.0  0.469  7.185  61.1  4.9671  2.0  242.0   \n",
       "3  0.03237   0.0   2.18   0.0  0.458  6.998  45.8  6.0622  3.0  222.0   \n",
       "4  0.06905   0.0   2.18   0.0  0.458  7.147  54.2  6.0622  3.0  222.0   \n",
       "\n",
       "   PTRATIO       B  LSTAT  \n",
       "0     15.3  396.90   4.98  \n",
       "1     17.8  396.90   9.14  \n",
       "2     17.8  392.83   4.03  \n",
       "3     18.7  394.63   2.94  \n",
       "4     18.7  396.90   5.33  "
      ]
     },
     "execution_count": 32,
     "metadata": {},
     "output_type": "execute_result"
    }
   ],
   "source": [
    "df = pd.DataFrame(data.data,columns=data.feature_names)\n",
    "df.head()"
   ]
  },
  {
   "cell_type": "code",
   "execution_count": 33,
   "metadata": {
    "scrolled": true
   },
   "outputs": [
    {
     "data": {
      "text/plain": [
       "<AxesSubplot:>"
      ]
     },
     "execution_count": 33,
     "metadata": {},
     "output_type": "execute_result"
    },
    {
     "data": {
      "image/png": "[encoded data removed]",
      "text/plain": [
       "<Figure size 432x288 with 2 Axes>"
      ]
     },
     "metadata": {
      "needs_background": "light"
     },
     "output_type": "display_data"
    }
   ],
   "source": [
    "corr_mat = df.corr()\n",
    "sns.heatmap(corr_mat,annot=True)\n"
   ]
  },
  {
   "cell_type": "code",
   "execution_count": 34,
   "metadata": {},
   "outputs": [],
   "source": [
    "#feature selection using correlation\n",
    "columns = np.full((corr_mat.shape[0],), True, dtype=bool)\n",
    "for i in range(corr_mat.shape[0]):\n",
    "    for j in range(i+1, corr_mat.shape[0]):\n",
    "        if corr_mat.iloc[i,j] >= 0.8:\n",
    "            if columns[j]:\n",
    "                columns[j] = False\n",
    "selected_columns = df.columns[columns]\n",
    "df = df[selected_columns]"
   ]
  },
  {
   "cell_type": "code",
   "execution_count": 35,
   "metadata": {},
   "outputs": [],
   "source": [
    "X_scaled = ss.fit_transform(df)"
   ]
  },
  {
   "cell_type": "code",
   "execution_count": 36,
   "metadata": {},
   "outputs": [],
   "source": [
    "y = data.target.reshape(-1,1)"
   ]
  },
  {
   "cell_type": "code",
   "execution_count": 37,
   "metadata": {},
   "outputs": [],
   "source": [
    "X_train,X_test,y_train,y_test = train_test_split(X_scaled,y,test_size=0.3)"
   ]
  },
  {
   "cell_type": "code",
   "execution_count": 38,
   "metadata": {},
   "outputs": [
    {
     "data": {
      "text/plain": [
       "LinearRegression()"
      ]
     },
     "execution_count": 38,
     "metadata": {},
     "output_type": "execute_result"
    }
   ],
   "source": [
    "regression.fit(X_train,y_train)"
   ]
  },
  {
   "cell_type": "code",
   "execution_count": 39,
   "metadata": {},
   "outputs": [],
   "source": [
    "y_pred = regression.predict(X_test)"
   ]
  },
  {
   "cell_type": "code",
   "execution_count": 40,
   "metadata": {},
   "outputs": [
    {
     "data": {
      "text/plain": [
       "0.7161586056829337"
      ]
     },
     "execution_count": 40,
     "metadata": {},
     "output_type": "execute_result"
    }
   ],
   "source": [
    "regression.score(X_test,y_test)"
   ]
  },
  {
   "cell_type": "code",
   "execution_count": 41,
   "metadata": {},
   "outputs": [
    {
     "name": "stdout",
     "output_type": "stream",
     "text": [
      "Mean Square Error :  23.60259723082122\n"
     ]
    }
   ],
   "source": [
    "from sklearn.metrics import mean_squared_error \n",
    "mse = mean_squared_error(y_test, y_pred) \n",
    "print(\"Mean Square Error : \", mse)"
   ]
  },
  {
   "cell_type": "code",
   "execution_count": null,
   "metadata": {},
   "outputs": [],
   "source": []
  }
 ],
 "metadata": {
  "kernelspec": {
   "display_name": "Python 3",
   "language": "python",
   "name": "python3"
  },
  "language_info": {
   "codemirror_mode": {
    "name": "ipython",
    "version": 3
   },
   "file_extension": ".py",
   "mimetype": "text/x-python",
   "name": "python",
   "nbconvert_exporter": "python",
   "pygments_lexer": "ipython3",
   "version": "3.8.5"
  }
 },
 "nbformat": 4,
 "nbformat_minor": 4
}
