{
 "cells": [
  {
   "cell_type": "code",
   "execution_count": null,
   "metadata": {},
   "outputs": [],
   "source": [
    "import requests\n",
    "from bs4 import  BeautifulSoup\n",
    "dataset = []\n",
    "\n",
    "main_url = 'https://www.sastoramro.com'\n",
    "for p in range(1,402):\n",
    "    res = requests.get('https://www.sastoramro.com/ads-search.html?c=3&s=&p='+str(p))\n",
    "    if res.status_code != 200:\n",
    "        continue\n",
    "    list_page = BeautifulSoup(res.text)\n",
    "    for item in list_page.find_all(class_='prdct'):\n",
    "        data = {}\n",
    "        url = main_url+item.find_all('a',class_='thumbnail')[0]['href']\n",
    "        res = requests.get(url)\n",
    "        soup = BeautifulSoup(res.text)\n",
    "        specs = soup.find_all(class_='clearfix')\n",
    "        for spec in specs:\n",
    "            for i in spec.find_all('div'):\n",
    "                data[i.dt.text.replace(u'\\xa0',' ')]= i.dd.text \n",
    "        if bool(data): #check if dict is empty\n",
    "            dataset.append(data)"
   ]
  },
  {
   "cell_type": "code",
   "execution_count": 2,
   "metadata": {},
   "outputs": [],
   "source": [
    "import pandas as pd\n",
    "# df = pd.DataFrame(dataset)\n",
    "# df.head()"
   ]
  },
  {
   "cell_type": "code",
   "execution_count": 3,
   "metadata": {},
   "outputs": [],
   "source": [
    "# df.to_csv('dataset_1904.csv')"
   ]
  },
  {
   "cell_type": "code",
   "execution_count": 4,
   "metadata": {},
   "outputs": [
    {
     "data": {
      "text/html": [
       "<div>\n",
       "<style scoped>\n",
       "    .dataframe tbody tr th:only-of-type {\n",
       "        vertical-align: middle;\n",
       "    }\n",
       "\n",
       "    .dataframe tbody tr th {\n",
       "        vertical-align: top;\n",
       "    }\n",
       "\n",
       "    .dataframe thead th {\n",
       "        text-align: right;\n",
       "    }\n",
       "</style>\n",
       "<table border=\"1\" class=\"dataframe\">\n",
       "  <thead>\n",
       "    <tr style=\"text-align: right;\">\n",
       "      <th></th>\n",
       "      <th>Year:</th>\n",
       "      <th>Seller:</th>\n",
       "      <th>Bike make:</th>\n",
       "      <th>Zone:</th>\n",
       "      <th>Starter:</th>\n",
       "      <th>Kilometers:</th>\n",
       "      <th>Warranty:</th>\n",
       "      <th>Condition:</th>\n",
       "      <th>Negotiable:</th>\n",
       "      <th>Lot number:</th>\n",
       "      <th>...</th>\n",
       "      <th>Displacement:</th>\n",
       "      <th>Engine type:</th>\n",
       "      <th>Power:</th>\n",
       "      <th>Gearbox:</th>\n",
       "      <th>Ignition system:</th>\n",
       "      <th>Reserve fuel capacity:</th>\n",
       "      <th>Mileage:</th>\n",
       "      <th>Fuel control:</th>\n",
       "      <th>Transmission type:</th>\n",
       "      <th>Fuel comsumption:</th>\n",
       "    </tr>\n",
       "  </thead>\n",
       "  <tbody>\n",
       "    <tr>\n",
       "      <th>0</th>\n",
       "      <td>2012.0</td>\n",
       "      <td>Owner</td>\n",
       "      <td>Bajaj</td>\n",
       "      <td>Narayani</td>\n",
       "      <td>Electric</td>\n",
       "      <td>55000.0</td>\n",
       "      <td>None</td>\n",
       "      <td>New</td>\n",
       "      <td>Negotiable</td>\n",
       "      <td>21.0</td>\n",
       "      <td>...</td>\n",
       "      <td>NaN</td>\n",
       "      <td>NaN</td>\n",
       "      <td>NaN</td>\n",
       "      <td>NaN</td>\n",
       "      <td>NaN</td>\n",
       "      <td>NaN</td>\n",
       "      <td>NaN</td>\n",
       "      <td>NaN</td>\n",
       "      <td>NaN</td>\n",
       "      <td>NaN</td>\n",
       "    </tr>\n",
       "    <tr>\n",
       "      <th>1</th>\n",
       "      <td>2016.0</td>\n",
       "      <td>Owner</td>\n",
       "      <td>Bajaj</td>\n",
       "      <td>Lumbini</td>\n",
       "      <td>NaN</td>\n",
       "      <td>48000.0</td>\n",
       "      <td>None</td>\n",
       "      <td>New</td>\n",
       "      <td>Negotiable</td>\n",
       "      <td>20.0</td>\n",
       "      <td>...</td>\n",
       "      <td>NaN</td>\n",
       "      <td>NaN</td>\n",
       "      <td>NaN</td>\n",
       "      <td>NaN</td>\n",
       "      <td>NaN</td>\n",
       "      <td>NaN</td>\n",
       "      <td>NaN</td>\n",
       "      <td>NaN</td>\n",
       "      <td>NaN</td>\n",
       "      <td>NaN</td>\n",
       "    </tr>\n",
       "    <tr>\n",
       "      <th>2</th>\n",
       "      <td>2019.0</td>\n",
       "      <td>Owner</td>\n",
       "      <td>Benelli</td>\n",
       "      <td>Lumbini</td>\n",
       "      <td>NaN</td>\n",
       "      <td>8500.0</td>\n",
       "      <td>None</td>\n",
       "      <td>New</td>\n",
       "      <td>NaN</td>\n",
       "      <td>58.0</td>\n",
       "      <td>...</td>\n",
       "      <td>NaN</td>\n",
       "      <td>NaN</td>\n",
       "      <td>NaN</td>\n",
       "      <td>NaN</td>\n",
       "      <td>NaN</td>\n",
       "      <td>NaN</td>\n",
       "      <td>NaN</td>\n",
       "      <td>NaN</td>\n",
       "      <td>NaN</td>\n",
       "      <td>NaN</td>\n",
       "    </tr>\n",
       "    <tr>\n",
       "      <th>3</th>\n",
       "      <td>2018.0</td>\n",
       "      <td>Owner</td>\n",
       "      <td>Royal Enfield</td>\n",
       "      <td>Bagmati</td>\n",
       "      <td>NaN</td>\n",
       "      <td>6000.0</td>\n",
       "      <td>None</td>\n",
       "      <td>New</td>\n",
       "      <td>NaN</td>\n",
       "      <td>2.0</td>\n",
       "      <td>...</td>\n",
       "      <td>346 cc</td>\n",
       "      <td>Single Cylinder, 4 stroke, Twinspark, Air cooled</td>\n",
       "      <td>20</td>\n",
       "      <td>5 Speed Constant Mesh</td>\n",
       "      <td>Transistorized Coil Ignition (TCI)</td>\n",
       "      <td>1.25 litre</td>\n",
       "      <td>NaN</td>\n",
       "      <td>NaN</td>\n",
       "      <td>NaN</td>\n",
       "      <td>NaN</td>\n",
       "    </tr>\n",
       "    <tr>\n",
       "      <th>4</th>\n",
       "      <td>2010.0</td>\n",
       "      <td>NaN</td>\n",
       "      <td>Hero</td>\n",
       "      <td>Mechi</td>\n",
       "      <td>NaN</td>\n",
       "      <td>60000.0</td>\n",
       "      <td>None</td>\n",
       "      <td>New</td>\n",
       "      <td>Negotiable</td>\n",
       "      <td>4.0</td>\n",
       "      <td>...</td>\n",
       "      <td>NaN</td>\n",
       "      <td>NaN</td>\n",
       "      <td>NaN</td>\n",
       "      <td>4</td>\n",
       "      <td>NaN</td>\n",
       "      <td>NaN</td>\n",
       "      <td>NaN</td>\n",
       "      <td>NaN</td>\n",
       "      <td>NaN</td>\n",
       "      <td>NaN</td>\n",
       "    </tr>\n",
       "  </tbody>\n",
       "</table>\n",
       "<p>5 rows × 23 columns</p>\n",
       "</div>"
      ],
      "text/plain": [
       "    Year: Seller:     Bike make:     Zone:  Starter:  Kilometers: Warranty:  \\\n",
       "0  2012.0   Owner          Bajaj  Narayani  Electric      55000.0      None   \n",
       "1  2016.0   Owner          Bajaj   Lumbini       NaN      48000.0      None   \n",
       "2  2019.0   Owner        Benelli   Lumbini       NaN       8500.0      None   \n",
       "3  2018.0   Owner  Royal Enfield   Bagmati       NaN       6000.0      None   \n",
       "4  2010.0     NaN           Hero     Mechi       NaN      60000.0      None   \n",
       "\n",
       "  Condition: Negotiable:  Lot number:  ... Displacement:  \\\n",
       "0        New  Negotiable         21.0  ...           NaN   \n",
       "1        New  Negotiable         20.0  ...           NaN   \n",
       "2        New         NaN         58.0  ...           NaN   \n",
       "3        New         NaN          2.0  ...        346 cc   \n",
       "4        New  Negotiable          4.0  ...           NaN   \n",
       "\n",
       "                                       Engine type: Power:  \\\n",
       "0                                               NaN    NaN   \n",
       "1                                               NaN    NaN   \n",
       "2                                               NaN    NaN   \n",
       "3  Single Cylinder, 4 stroke, Twinspark, Air cooled     20   \n",
       "4                                               NaN    NaN   \n",
       "\n",
       "                Gearbox:                    Ignition system:  \\\n",
       "0                    NaN                                 NaN   \n",
       "1                    NaN                                 NaN   \n",
       "2                    NaN                                 NaN   \n",
       "3  5 Speed Constant Mesh  Transistorized Coil Ignition (TCI)   \n",
       "4                      4                                 NaN   \n",
       "\n",
       "  Reserve fuel capacity: Mileage: Fuel control: Transmission type:  \\\n",
       "0                    NaN      NaN           NaN                NaN   \n",
       "1                    NaN      NaN           NaN                NaN   \n",
       "2                    NaN      NaN           NaN                NaN   \n",
       "3             1.25 litre      NaN           NaN                NaN   \n",
       "4                    NaN      NaN           NaN                NaN   \n",
       "\n",
       "  Fuel comsumption:  \n",
       "0               NaN  \n",
       "1               NaN  \n",
       "2               NaN  \n",
       "3               NaN  \n",
       "4               NaN  \n",
       "\n",
       "[5 rows x 23 columns]"
      ]
     },
     "execution_count": 4,
     "metadata": {},
     "output_type": "execute_result"
    }
   ],
   "source": [
    "df = pd.read_csv('dataset_1904.csv')\n",
    "df.head()"
   ]
  },
  {
   "cell_type": "code",
   "execution_count": 5,
   "metadata": {},
   "outputs": [],
   "source": [
    "df = df[df['Price:'].notna()]\n",
    "df['Price:'] =pd.to_numeric(df['Price:'].apply(lambda x:x[2:].replace(',','').strip()))"
   ]
  },
  {
   "cell_type": "code",
   "execution_count": 6,
   "metadata": {},
   "outputs": [],
   "source": [
    "less_than_50 = df.isna().sum()/df.shape[0] < 0.4\n",
    "df = df[df.columns[less_than_50.values]]"
   ]
  },
  {
   "cell_type": "code",
   "execution_count": 7,
   "metadata": {},
   "outputs": [],
   "source": [
    "df.drop(columns=['Seller:','Negotiable:'],inplace=True)"
   ]
  },
  {
   "cell_type": "code",
   "execution_count": 8,
   "metadata": {},
   "outputs": [
    {
     "data": {
      "text/plain": [
       "Year:          192\n",
       "Bike make:       0\n",
       "Zone:            0\n",
       "Kilometers:     86\n",
       "Warranty:        0\n",
       "Condition:       0\n",
       "Lot number:      0\n",
       "Price:           0\n",
       "Bike model:     76\n",
       "dtype: int64"
      ]
     },
     "execution_count": 8,
     "metadata": {},
     "output_type": "execute_result"
    }
   ],
   "source": [
    "df.isna().sum()"
   ]
  },
  {
   "cell_type": "code",
   "execution_count": 9,
   "metadata": {},
   "outputs": [],
   "source": [
    "df['Kilometers:'].fillna(0,inplace=True)\n",
    "df['Year:'].fillna(df.mean(),inplace=True)"
   ]
  },
  {
   "cell_type": "code",
   "execution_count": 10,
   "metadata": {},
   "outputs": [
    {
     "data": {
      "text/html": [
       "<div>\n",
       "<style scoped>\n",
       "    .dataframe tbody tr th:only-of-type {\n",
       "        vertical-align: middle;\n",
       "    }\n",
       "\n",
       "    .dataframe tbody tr th {\n",
       "        vertical-align: top;\n",
       "    }\n",
       "\n",
       "    .dataframe thead th {\n",
       "        text-align: right;\n",
       "    }\n",
       "</style>\n",
       "<table border=\"1\" class=\"dataframe\">\n",
       "  <thead>\n",
       "    <tr style=\"text-align: right;\">\n",
       "      <th></th>\n",
       "      <th>Year:</th>\n",
       "      <th>Bike make:</th>\n",
       "      <th>Zone:</th>\n",
       "      <th>Kilometers:</th>\n",
       "      <th>Warranty:</th>\n",
       "      <th>Condition:</th>\n",
       "      <th>Lot number:</th>\n",
       "      <th>Price:</th>\n",
       "      <th>Bike model:</th>\n",
       "    </tr>\n",
       "  </thead>\n",
       "  <tbody>\n",
       "    <tr>\n",
       "      <th>0</th>\n",
       "      <td>2012.0</td>\n",
       "      <td>Bajaj</td>\n",
       "      <td>Narayani</td>\n",
       "      <td>55000.0</td>\n",
       "      <td>None</td>\n",
       "      <td>New</td>\n",
       "      <td>21.0</td>\n",
       "      <td>100000.0</td>\n",
       "      <td>NaN</td>\n",
       "    </tr>\n",
       "    <tr>\n",
       "      <th>30</th>\n",
       "      <td>2019.0</td>\n",
       "      <td>Yamaha</td>\n",
       "      <td>Bagmati</td>\n",
       "      <td>0.0</td>\n",
       "      <td>None</td>\n",
       "      <td>New</td>\n",
       "      <td>105.0</td>\n",
       "      <td>355000.0</td>\n",
       "      <td>NaN</td>\n",
       "    </tr>\n",
       "    <tr>\n",
       "      <th>32</th>\n",
       "      <td>2018.0</td>\n",
       "      <td>Other Bike Brand</td>\n",
       "      <td>Bagmati</td>\n",
       "      <td>9800.0</td>\n",
       "      <td>None</td>\n",
       "      <td>New</td>\n",
       "      <td>95.0</td>\n",
       "      <td>349999.0</td>\n",
       "      <td>NaN</td>\n",
       "    </tr>\n",
       "    <tr>\n",
       "      <th>42</th>\n",
       "      <td>2019.0</td>\n",
       "      <td>Other Bike Brand</td>\n",
       "      <td>Lumbini</td>\n",
       "      <td>0.0</td>\n",
       "      <td>None</td>\n",
       "      <td>New</td>\n",
       "      <td>18.0</td>\n",
       "      <td>250000.0</td>\n",
       "      <td>NaN</td>\n",
       "    </tr>\n",
       "    <tr>\n",
       "      <th>44</th>\n",
       "      <td>2019.0</td>\n",
       "      <td>Crossfire</td>\n",
       "      <td>Bagmati</td>\n",
       "      <td>600.0</td>\n",
       "      <td>None</td>\n",
       "      <td>New</td>\n",
       "      <td>13.0</td>\n",
       "      <td>510000.0</td>\n",
       "      <td>NaN</td>\n",
       "    </tr>\n",
       "    <tr>\n",
       "      <th>...</th>\n",
       "      <td>...</td>\n",
       "      <td>...</td>\n",
       "      <td>...</td>\n",
       "      <td>...</td>\n",
       "      <td>...</td>\n",
       "      <td>...</td>\n",
       "      <td>...</td>\n",
       "      <td>...</td>\n",
       "      <td>...</td>\n",
       "    </tr>\n",
       "    <tr>\n",
       "      <th>1769</th>\n",
       "      <td>NaN</td>\n",
       "      <td>Suzuki</td>\n",
       "      <td>Bagmati</td>\n",
       "      <td>16000.0</td>\n",
       "      <td>None</td>\n",
       "      <td>New</td>\n",
       "      <td>63.0</td>\n",
       "      <td>1200000.0</td>\n",
       "      <td>NaN</td>\n",
       "    </tr>\n",
       "    <tr>\n",
       "      <th>1804</th>\n",
       "      <td>2010.0</td>\n",
       "      <td>Bajaj</td>\n",
       "      <td>Bagmati</td>\n",
       "      <td>43000.0</td>\n",
       "      <td>None</td>\n",
       "      <td>New</td>\n",
       "      <td>39.0</td>\n",
       "      <td>80.0</td>\n",
       "      <td>NaN</td>\n",
       "    </tr>\n",
       "    <tr>\n",
       "      <th>1807</th>\n",
       "      <td>2008.0</td>\n",
       "      <td>Royal Enfield</td>\n",
       "      <td>Bagmati</td>\n",
       "      <td>11800.0</td>\n",
       "      <td>None</td>\n",
       "      <td>New</td>\n",
       "      <td>43.0</td>\n",
       "      <td>260000.0</td>\n",
       "      <td>NaN</td>\n",
       "    </tr>\n",
       "    <tr>\n",
       "      <th>1821</th>\n",
       "      <td>2017.0</td>\n",
       "      <td>Other Bike Brand</td>\n",
       "      <td>Gandaki</td>\n",
       "      <td>330.0</td>\n",
       "      <td>Available</td>\n",
       "      <td>New</td>\n",
       "      <td>13.0</td>\n",
       "      <td>290000.0</td>\n",
       "      <td>NaN</td>\n",
       "    </tr>\n",
       "    <tr>\n",
       "      <th>1857</th>\n",
       "      <td>NaN</td>\n",
       "      <td>Hero</td>\n",
       "      <td>Gandaki</td>\n",
       "      <td>30000.0</td>\n",
       "      <td>None</td>\n",
       "      <td>New</td>\n",
       "      <td>6.0</td>\n",
       "      <td>105000.0</td>\n",
       "      <td>NaN</td>\n",
       "    </tr>\n",
       "  </tbody>\n",
       "</table>\n",
       "<p>76 rows × 9 columns</p>\n",
       "</div>"
      ],
      "text/plain": [
       "       Year:        Bike make:     Zone:  Kilometers:  Warranty: Condition:  \\\n",
       "0     2012.0             Bajaj  Narayani      55000.0       None        New   \n",
       "30    2019.0            Yamaha   Bagmati          0.0       None        New   \n",
       "32    2018.0  Other Bike Brand   Bagmati       9800.0       None        New   \n",
       "42    2019.0  Other Bike Brand   Lumbini          0.0       None        New   \n",
       "44    2019.0         Crossfire   Bagmati        600.0       None        New   \n",
       "...      ...               ...       ...          ...        ...        ...   \n",
       "1769     NaN            Suzuki   Bagmati      16000.0       None        New   \n",
       "1804  2010.0             Bajaj   Bagmati      43000.0       None        New   \n",
       "1807  2008.0     Royal Enfield   Bagmati      11800.0       None        New   \n",
       "1821  2017.0  Other Bike Brand   Gandaki        330.0  Available        New   \n",
       "1857     NaN              Hero   Gandaki      30000.0       None        New   \n",
       "\n",
       "      Lot number:     Price: Bike model:  \n",
       "0            21.0   100000.0         NaN  \n",
       "30          105.0   355000.0         NaN  \n",
       "32           95.0   349999.0         NaN  \n",
       "42           18.0   250000.0         NaN  \n",
       "44           13.0   510000.0         NaN  \n",
       "...           ...        ...         ...  \n",
       "1769         63.0  1200000.0         NaN  \n",
       "1804         39.0       80.0         NaN  \n",
       "1807         43.0   260000.0         NaN  \n",
       "1821         13.0   290000.0         NaN  \n",
       "1857          6.0   105000.0         NaN  \n",
       "\n",
       "[76 rows x 9 columns]"
      ]
     },
     "execution_count": 10,
     "metadata": {},
     "output_type": "execute_result"
    }
   ],
   "source": [
    "nan_bikes = df.loc[df['Bike model:'].isna().values]\n",
    "nan_bikes"
   ]
  },
  {
   "cell_type": "code",
   "execution_count": 11,
   "metadata": {},
   "outputs": [],
   "source": [
    "df['Year:'] = df['Year:'].fillna(df['Year:'].mean())"
   ]
  },
  {
   "cell_type": "code",
   "execution_count": 12,
   "metadata": {},
   "outputs": [],
   "source": [
    "nan_bikes = df[df['Bike model:'].isna()].index\n",
    "df.drop(nan_bikes,axis=0,inplace=True)"
   ]
  },
  {
   "cell_type": "code",
   "execution_count": 55,
   "metadata": {},
   "outputs": [
    {
     "data": {
      "text/plain": [
       "Year:          0\n",
       "Bike make:     0\n",
       "Zone:          0\n",
       "Kilometers:    0\n",
       "Warranty:      0\n",
       "Condition:     0\n",
       "Lot number:    0\n",
       "Price:         0\n",
       "Bike model:    0\n",
       "dtype: int64"
      ]
     },
     "execution_count": 55,
     "metadata": {},
     "output_type": "execute_result"
    }
   ],
   "source": [
    "df.isna().sum()"
   ]
  },
  {
   "cell_type": "code",
   "execution_count": 57,
   "metadata": {},
   "outputs": [],
   "source": [
    "#find correlation matrix\n",
    "corr_mat = df.corr()"
   ]
  },
  {
   "cell_type": "code",
   "execution_count": 60,
   "metadata": {},
   "outputs": [
    {
     "data": {
      "text/plain": [
       "<AxesSubplot:>"
      ]
     },
     "execution_count": 60,
     "metadata": {},
     "output_type": "execute_result"
    },
    {
     "data": {
      "image/png": "[encoded data removed]",
      "text/plain": [
       "<Figure size 432x288 with 2 Axes>"
      ]
     },
     "metadata": {
      "needs_background": "light"
     },
     "output_type": "display_data"
    }
   ],
   "source": [
    "import seaborn as sns\n",
    "from matplotlib import pyplot as plt\n",
    "sns.heatmap(corr_mat,annot=True)"
   ]
  },
  {
   "cell_type": "code",
   "execution_count": 14,
   "metadata": {},
   "outputs": [],
   "source": [
    "from sklearn.preprocessing import LabelEncoder,StandardScaler\n",
    "le = LabelEncoder()\n",
    "df['Bike make:'] = le.fit_transform(df['Bike make:'].values)\n",
    "df['Zone:'] = le.fit_transform(df['Zone:'].values)\n",
    "df['Warranty:'] = le.fit_transform(df['Warranty:'].values)\n",
    "df['Condition:'] = le.fit_transform(df['Condition:'].values)\n",
    "df['Bike model:'] = le.fit_transform(df['Bike model:'].values)\n",
    "\n"
   ]
  },
  {
   "cell_type": "code",
   "execution_count": 38,
   "metadata": {},
   "outputs": [],
   "source": [
    "X = df.drop(columns=['Price:'])\n",
    "y = df['Price:'].values.reshape(-1,1)"
   ]
  },
  {
   "cell_type": "code",
   "execution_count": 39,
   "metadata": {},
   "outputs": [],
   "source": [
    "ss = StandardScaler()\n",
    "X_scaled = ss.fit_transform(X)"
   ]
  },
  {
   "cell_type": "code",
   "execution_count": 40,
   "metadata": {},
   "outputs": [],
   "source": [
    "y = y/10000 #y scaled by 10k"
   ]
  },
  {
   "cell_type": "code",
   "execution_count": 41,
   "metadata": {},
   "outputs": [],
   "source": [
    "from sklearn.model_selection  import train_test_split\n",
    "X_train,X_test,y_train,y_test = train_test_split(X_scaled,y,test_size=0.3)"
   ]
  },
  {
   "cell_type": "code",
   "execution_count": 42,
   "metadata": {},
   "outputs": [
    {
     "data": {
      "text/plain": [
       "LinearRegression()"
      ]
     },
     "execution_count": 42,
     "metadata": {},
     "output_type": "execute_result"
    }
   ],
   "source": [
    "from sklearn.linear_model import LinearRegression\n",
    "regression  = LinearRegression()\n",
    "regression.fit(X_train,y_train)"
   ]
  },
  {
   "cell_type": "code",
   "execution_count": 46,
   "metadata": {},
   "outputs": [],
   "source": [
    "y_pred = regression.predict(X_test)\n",
    "y_pred = y_pred.reshape(-1,1)"
   ]
  },
  {
   "cell_type": "code",
   "execution_count": 52,
   "metadata": {},
   "outputs": [
    {
     "data": {
      "text/plain": [
       "(420, 1)"
      ]
     },
     "execution_count": 52,
     "metadata": {},
     "output_type": "execute_result"
    }
   ],
   "source": [
    "y_pred.shape"
   ]
  },
  {
   "cell_type": "code",
   "execution_count": 53,
   "metadata": {},
   "outputs": [
    {
     "data": {
      "text/plain": [
       "0.10841440400255675"
      ]
     },
     "execution_count": 53,
     "metadata": {},
     "output_type": "execute_result"
    }
   ],
   "source": [
    "regression.score(X_test,y_test)"
   ]
  },
  {
   "cell_type": "code",
   "execution_count": 61,
   "metadata": {},
   "outputs": [
    {
     "name": "stdout",
     "output_type": "stream",
     "text": [
      "Mean Square Error :  129.64184593359818\n"
     ]
    }
   ],
   "source": [
    "from sklearn.metrics import mean_squared_error \n",
    "mse = mean_squared_error(y_test, y_pred) \n",
    "print(\"Mean Square Error : \", mse)"
   ]
  },
  {
   "cell_type": "code",
   "execution_count": null,
   "metadata": {},
   "outputs": [],
   "source": [
    "#BOSTON HOUSE PRIce"
   ]
  }
 ],
 "metadata": {
  "kernelspec": {
   "display_name": "Python 3",
   "language": "python",
   "name": "python3"
  },
  "language_info": {
   "codemirror_mode": {
    "name": "ipython",
    "version": 3
   },
   "file_extension": ".py",
   "mimetype": "text/x-python",
   "name": "python",
   "nbconvert_exporter": "python",
   "pygments_lexer": "ipython3",
   "version": "3.8.5"
  }
 },
 "nbformat": 4,
 "nbformat_minor": 4
}
